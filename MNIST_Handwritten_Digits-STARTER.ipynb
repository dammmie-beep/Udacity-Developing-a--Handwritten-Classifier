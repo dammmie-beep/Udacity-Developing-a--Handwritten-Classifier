{
 "cells": [
  {
   "cell_type": "markdown",
   "metadata": {},
   "source": [
    "# Introduction\n",
    "\n",
    "In this project, you will build a neural network of your own design to evaluate the MNIST dataset.\n",
    "\n",
    "Some of the benchmark results on MNIST include can be found [on Yann LeCun's page](https://webcache.googleusercontent.com/search?q=cache:stAVPik6onEJ:yann.lecun.com/exdb/mnist) and include:\n",
    "\n",
    "88% [Lecun et al., 1998](https://hal.science/hal-03926082/document)\n",
    "\n",
    "95.3% [Lecun et al., 1998](https://hal.science/hal-03926082v1/document)\n",
    "\n",
    "99.65% [Ciresan et al., 2011](http://people.idsia.ch/~juergen/ijcai2011.pdf)\n",
    "\n",
    "\n",
    "MNIST is a great dataset for sanity checking your models, since the accuracy levels achieved by large convolutional neural networks and small linear models are both quite high. This makes it important to be familiar with the data.\n",
    "\n",
    "## Installation"
   ]
  },
  {
   "cell_type": "code",
   "execution_count": 1,
   "metadata": {},
   "outputs": [],
   "source": [
    "# Update the PATH to include the user installation directory. \n",
    "import os\n",
    "os.environ['PATH'] = f\"{os.environ['PATH']}:/root/.local/bin\"\n",
    "\n",
    "# Restart the Kernel before you move on to the next step."
   ]
  },
  {
   "cell_type": "markdown",
   "metadata": {},
   "source": [
    "#### Important: Restart the Kernel before you move on to the next step."
   ]
  },
  {
   "cell_type": "code",
   "execution_count": 2,
   "metadata": {},
   "outputs": [],
   "source": [
    "# Install requirements\n",
    "# !python -m pip install -r requirements.txt"
   ]
  },
  {
   "cell_type": "markdown",
   "metadata": {},
   "source": [
    "## Imports"
   ]
  },
  {
   "cell_type": "code",
   "execution_count": 3,
   "metadata": {},
   "outputs": [],
   "source": [
    "## This cell contains the essential imports you will need – DO NOT CHANGE THE CONTENTS! ##\n",
    "import torch\n",
    "import torch.nn as nn\n",
    "import torch.nn.functional as F\n",
    "import torch.optim as optim\n",
    "import torchvision\n",
    "import torchvision.transforms as transforms\n",
    "import matplotlib.pyplot as plt\n",
    "import numpy as np\n",
    "from torch.utils.data import DataLoader"
   ]
  },
  {
   "cell_type": "code",
   "execution_count": 4,
   "metadata": {},
   "outputs": [],
   "source": [
    "# !pip install -U ipywidgets\n",
    "# !jupyter nbextension enable --py widgetsnbextension"
   ]
  },
  {
   "cell_type": "markdown",
   "metadata": {},
   "source": [
    "## Load the Dataset\n",
    "\n",
    "Specify your transforms as a list if you intend to .\n",
    "The transforms module is already loaded as `transforms`.\n",
    "\n",
    "MNIST is fortunately included in the torchvision module.\n",
    "Then, you can create your dataset using the `MNIST` object from `torchvision.datasets` ([the documentation is available here](https://pytorch.org/vision/stable/datasets.html#mnist)).\n",
    "Make sure to specify `download=True`! \n",
    "\n",
    "Once your dataset is created, you'll also need to define a `DataLoader` from the `torch.utils.data` module for both the train and the test set."
   ]
  },
  {
   "cell_type": "code",
   "execution_count": 5,
   "metadata": {},
   "outputs": [
    {
     "name": "stderr",
     "output_type": "stream",
     "text": [
      "/opt/conda/lib/python3.7/site-packages/torchvision/datasets/mnist.py:498: UserWarning: The given NumPy array is not writable, and PyTorch does not support non-writable tensors. This means writing to this tensor will result in undefined behavior. You may want to copy the array to protect its data or make it writable before converting it to a tensor. This type of warning will be suppressed for the rest of this program. (Triggered internally at  ../torch/csrc/utils/tensor_numpy.cpp:178.)\n",
      "  return torch.from_numpy(parsed.astype(m[2], copy=False)).view(*s)\n"
     ]
    }
   ],
   "source": [
    "# Define transforms\n",
    "transformed = transforms.ToTensor()\n",
    "\n",
    "# transformations = transforms.Compose([\n",
    "#     transforms.ToTensor(),\n",
    "#     transforms.Normalize((0.5,), (0.5,)),  # Example normalization; adjust mean and std as needed\n",
    "#     Lambda(lambda x: x.view(-1))  # Flatten the image from [1, 28, 28] to [784]\n",
    "# ])\n",
    "\n",
    "# Create training set and define training dataloader\n",
    "train_data = torchvision.datasets.MNIST(root =\"data\", train = True, download = True, transform = transformed )\n",
    "train_loader =DataLoader(train_data, batch_size = 100, shuffle = True)\n",
    "\n",
    "# Create test set and define test dataloader\n",
    "test_data = torchvision.datasets.MNIST(root =\"data\", train = False, download = True, transform = transformed)\n",
    "test_loader = DataLoader(train_data, batch_size = 100, shuffle = True)\n",
    "\n"
   ]
  },
  {
   "cell_type": "markdown",
   "metadata": {},
   "source": [
    "## Justify your preprocessing\n",
    "\n",
    "In your own words, why did you choose the transforms you chose? If you didn't use any preprocessing steps, why not?"
   ]
  },
  {
   "cell_type": "markdown",
   "metadata": {},
   "source": [
    "**I did transformations for effectively training of my models as well as enabling efficient processing**"
   ]
  },
  {
   "cell_type": "markdown",
   "metadata": {},
   "source": [
    "## Explore the Dataset\n",
    "Using matplotlib, numpy, and torch, explore the dimensions of your data.\n",
    "\n",
    "You can view images using the `show5` function defined below – it takes a data loader as an argument.\n",
    "Remember that normalized images will look really weird to you! You may want to try changing your transforms to view images.\n",
    "Typically using no transforms other than `toTensor()` works well for viewing – but not as well for training your network.\n",
    "If `show5` doesn't work, go back and check your code for creating your data loaders and your training/test sets."
   ]
  },
  {
   "cell_type": "code",
   "execution_count": 6,
   "metadata": {},
   "outputs": [],
   "source": [
    "## This cell contains a function for showing 5 images from a dataloader – DO NOT CHANGE THE CONTENTS! ##\n",
    "def show5(img_loader):\n",
    "    dataiter = iter(img_loader)\n",
    "    \n",
    "    batch = next(dataiter)\n",
    "    labels = batch[1][0:5]\n",
    "    images = batch[0][0:5]\n",
    "    for i in range(5):\n",
    "        print(int(labels[i].detach()))\n",
    "    \n",
    "        image = images[i].numpy()\n",
    "        plt.imshow(image.T.squeeze().T)\n",
    "        plt.show()"
   ]
  },
  {
   "cell_type": "code",
   "execution_count": 7,
   "metadata": {},
   "outputs": [
    {
     "name": "stdout",
     "output_type": "stream",
     "text": [
      "3\n"
     ]
    },
    {
     "data": {
      "image/png": "[encoded data removed]",
      "text/plain": [
       "<Figure size 432x288 with 1 Axes>"
      ]
     },
     "metadata": {
      "needs_background": "light"
     },
     "output_type": "display_data"
    },
    {
     "name": "stdout",
     "output_type": "stream",
     "text": [
      "1\n"
     ]
    },
    {
     "data": {
      "image/png": "[encoded data removed]",
      "text/plain": [
       "<Figure size 432x288 with 1 Axes>"
      ]
     },
     "metadata": {
      "needs_background": "light"
     },
     "output_type": "display_data"
    },
    {
     "name": "stdout",
     "output_type": "stream",
     "text": [
      "7\n"
     ]
    },
    {
     "data": {
      "image/png": "[encoded data removed]",
      "text/plain": [
       "<Figure size 432x288 with 1 Axes>"
      ]
     },
     "metadata": {
      "needs_background": "light"
     },
     "output_type": "display_data"
    },
    {
     "name": "stdout",
     "output_type": "stream",
     "text": [
      "3\n"
     ]
    },
    {
     "data": {
      "image/png": "[encoded data removed]",
      "text/plain": [
       "<Figure size 432x288 with 1 Axes>"
      ]
     },
     "metadata": {
      "needs_background": "light"
     },
     "output_type": "display_data"
    },
    {
     "name": "stdout",
     "output_type": "stream",
     "text": [
      "2\n"
     ]
    },
    {
     "data": {
      "image/png": "[encoded data removed]",
      "text/plain": [
       "<Figure size 432x288 with 1 Axes>"
      ]
     },
     "metadata": {
      "needs_background": "light"
     },
     "output_type": "display_data"
    }
   ],
   "source": [
    "# Explore data\n",
    "show5(train_loader)"
   ]
  },
  {
   "cell_type": "code",
   "execution_count": 8,
   "metadata": {},
   "outputs": [
    {
     "name": "stdout",
     "output_type": "stream",
     "text": [
      "Number of train data:(len(Dataset MNIST\n",
      "    Number of datapoints: 60000\n",
      "    Root location: data\n",
      "    Split: Train\n",
      "    StandardTransform\n",
      "Transform: ToTensor())\n",
      "Number of test data: (len(Dataset MNIST\n",
      "    Number of datapoints: 10000\n",
      "    Root location: data\n",
      "    Split: Test\n",
      "    StandardTransform\n",
      "Transform: ToTensor())\n"
     ]
    }
   ],
   "source": [
    "print(f'Number of train data:(len({train_data})')\n",
    "print(f'Number of test data: (len({test_data})')"
   ]
  },
  {
   "cell_type": "code",
   "execution_count": 9,
   "metadata": {},
   "outputs": [
    {
     "name": "stdout",
     "output_type": "stream",
     "text": [
      "Shape of train features: torch.Size([100, 1, 28, 28])\n",
      "Shape of train labels: torch.Size([100])\n",
      "Shape of test features: torch.Size([100, 1, 28, 28])\n",
      "Shape of test labels: torch.Size([100])\n"
     ]
    }
   ],
   "source": [
    "\n",
    "\n",
    "# Print the shape of training data\n",
    "train_features, train_labels = next(iter(train_loader))\n",
    "print(\"Shape of train features:\", train_features.shape)\n",
    "print(\"Shape of train labels:\", train_labels.shape)\n",
    "\n",
    "# Print the shape of test data\n",
    "test_features, test_labels = next(iter(test_loader))\n",
    "print(\"Shape of test features:\", test_features.shape)\n",
    "print(\"Shape of test labels:\", test_labels.shape)\n"
   ]
  },
  {
   "cell_type": "markdown",
   "metadata": {},
   "source": [
    "## Build your Neural Network\n",
    "Using the layers in `torch.nn` (which has been imported as `nn`) and the `torch.nn.functional` module (imported as `F`), construct a neural network based on the parameters of the dataset.\n",
    "Use any architecture you like. \n",
    "\n",
    "*Note*: If you did not flatten your tensors in your transforms or as part of your preprocessing and you are using only `Linear` layers, make sure to use the `Flatten` layer in your network!"
   ]
  },
  {
   "cell_type": "code",
   "execution_count": 10,
   "metadata": {},
   "outputs": [],
   "source": [
    "## YOUR CODE HERE ##\n",
    "\n",
    "class NeuralNetwork(nn.Module):\n",
    "    def __init__(self):\n",
    "        super().__init__()\n",
    "        self.flatten = nn.Flatten()\n",
    "        self.linear_relu_stack = nn.Sequential(\n",
    "            nn.Linear(28*28, 512),\n",
    "            nn.ReLU(),\n",
    "            nn.Linear(512, 512),\n",
    "            nn.ReLU(),\n",
    "            nn.Linear(512, 10),\n",
    "        )\n",
    "\n",
    "    def forward(self, x, return_probabilities=False):\n",
    "        x = self.flatten(x)\n",
    "        logits = self.linear_relu_stack(x)\n",
    "        if return_probabilities:\n",
    "            probabilities = F.softmax(logits, dim=1)  # Apply softmax along the second dimension\n",
    "            return probabilities\n",
    "        return logits"
   ]
  },
  {
   "cell_type": "markdown",
   "metadata": {},
   "source": [
    "Specify a loss function and an optimizer, and instantiate the model.\n",
    "\n",
    "If you use a less common loss function, please note why you chose that loss function in a comment."
   ]
  },
  {
   "cell_type": "code",
   "execution_count": 11,
   "metadata": {},
   "outputs": [],
   "source": [
    "## YOUR CODE HERE ##\n",
    "device = torch.device(\"cuda\" if torch.cuda.is_available() else \"cpu\")\n",
    "model = NeuralNetwork()  # Instantiate the model\n",
    "# Move the model to the chosen device\n",
    "model.to(device)\n",
    "\n",
    "# Loss function\n",
    "loss_function = nn.CrossEntropyLoss()\n",
    "# Optimizer\n",
    "optimizer = optim.Adam(model.parameters(), lr=0.001)"
   ]
  },
  {
   "cell_type": "markdown",
   "metadata": {},
   "source": [
    "## Running your Neural Network\n",
    "Use whatever method you like to train your neural network, and ensure you record the average loss at each epoch. \n",
    "Don't forget to use `torch.device()` and the `.to()` method for both your model and your data if you are using GPU!\n",
    "\n",
    "If you want to print your loss **during** each epoch, you can use the `enumerate` function and print the loss after a set number of batches. 250 batches works well for most people!"
   ]
  },
  {
   "cell_type": "code",
   "execution_count": 12,
   "metadata": {},
   "outputs": [
    {
     "name": "stdout",
     "output_type": "stream",
     "text": [
      "Epoch 1, Train Loss: 0.2501, Train Accuracy: 0.9278\n",
      "Epoch 1, Val Loss: 0.0952, Val Accuracy: 0.9719\n",
      "Epoch 2, Train Loss: 0.0904, Train Accuracy: 0.9725\n",
      "Epoch 2, Val Loss: 0.0572, Val Accuracy: 0.9828\n",
      "Epoch 3, Train Loss: 0.0605, Train Accuracy: 0.9813\n",
      "Epoch 3, Val Loss: 0.0386, Val Accuracy: 0.9887\n",
      "Epoch 4, Train Loss: 0.0435, Train Accuracy: 0.9857\n",
      "Epoch 4, Val Loss: 0.0260, Val Accuracy: 0.9919\n",
      "Epoch 5, Train Loss: 0.0333, Train Accuracy: 0.9890\n",
      "Epoch 5, Val Loss: 0.0224, Val Accuracy: 0.9931\n",
      "Epoch 6, Train Loss: 0.0267, Train Accuracy: 0.9915\n",
      "Epoch 6, Val Loss: 0.0226, Val Accuracy: 0.9926\n",
      "Epoch 7, Train Loss: 0.0215, Train Accuracy: 0.9925\n",
      "Epoch 7, Val Loss: 0.0106, Val Accuracy: 0.9964\n",
      "Epoch 8, Train Loss: 0.0203, Train Accuracy: 0.9935\n",
      "Epoch 8, Val Loss: 0.0159, Val Accuracy: 0.9946\n",
      "Epoch 9, Train Loss: 0.0148, Train Accuracy: 0.9951\n",
      "Epoch 9, Val Loss: 0.0139, Val Accuracy: 0.9956\n",
      "Epoch 10, Train Loss: 0.0162, Train Accuracy: 0.9946\n",
      "Epoch 10, Val Loss: 0.0095, Val Accuracy: 0.9967\n"
     ]
    }
   ],
   "source": [
    "## YOUR CODE HERE ##\n",
    "# device = torch.device(\"cuda\" if torch.cuda.is_available() else \"cpu\")\n",
    "\n",
    "num_epochs = 10\n",
    "\n",
    "# Establish lists for our history of loss and accuracy\n",
    "train_loss_ = []\n",
    "val_loss_ = []\n",
    "train_accuracy_ = []\n",
    "val_accuracy_ = []\n",
    "\n",
    "for epoch in range(num_epochs):\n",
    "    model.train()  # Set the model to training mode\n",
    "    train_loss = 0.0\n",
    "    train_correct = 0\n",
    "    total_train = 0\n",
    "\n",
    "    for i, data in enumerate(train_loader):\n",
    "        inputs, labels = data[0].to(device), data[1].to(device)  # Move data to the device\n",
    "\n",
    "        optimizer.zero_grad()  # Zero the gradients\n",
    "        outputs = model(inputs)  # Compute the model output\n",
    "        loss = loss_function(outputs, labels)  # Calculate loss\n",
    "        loss.backward()  # Backpropagate the error\n",
    "        optimizer.step()  # Update weights\n",
    "\n",
    "        _, preds = torch.max(outputs, 1)\n",
    "        train_correct += (preds == labels).sum().item()\n",
    "        train_loss += loss.item()\n",
    "        total_train += labels.size(0)\n",
    "\n",
    "    # Output training stats\n",
    "    train_accuracy = train_correct / total_train\n",
    "    train_loss_.append(train_loss / len(train_loader))\n",
    "\n",
    "    print(f'Epoch {epoch + 1}, Train Loss: {train_loss / len(train_loader):.4f}, Train Accuracy: {train_accuracy:.4f}')\n",
    "\n",
    "    # Validation loop\n",
    "    model.eval()  # Set the model to evaluation mode\n",
    "    val_loss = 0.0\n",
    "    val_correct = 0\n",
    "    total_val = 0\n",
    "\n",
    "    with torch.no_grad():\n",
    "        for inputs, labels in test_loader:\n",
    "            inputs, labels = inputs.to(device), labels.to(device)  # Move data to the device\n",
    "            outputs = model(inputs)\n",
    "            loss = loss_function(outputs, labels)\n",
    "\n",
    "            _, preds = torch.max(outputs, 1)\n",
    "            val_correct += (preds == labels).sum().item()\n",
    "            val_loss += loss.item()\n",
    "            total_val += labels.size(0)\n",
    "\n",
    "    # Output validation stats\n",
    "    val_accuracy = val_correct / total_val\n",
    "    val_loss_.append(val_loss / len(test_loader))\n",
    "\n",
    "    print(f'Epoch {epoch + 1}, Val Loss: {val_loss / len(test_loader):.4f}, Val Accuracy: {val_accuracy:.4f}')\n"
   ]
  },
  {
   "cell_type": "markdown",
   "metadata": {},
   "source": [
    "Plot the training loss (and validation loss/accuracy, if recorded)."
   ]
  },
  {
   "cell_type": "code",
   "execution_count": 13,
   "metadata": {},
   "outputs": [
    {
     "data": {
      "image/png": "[encoded data removed]",
      "text/plain": [
       "<Figure size 432x288 with 1 Axes>"
      ]
     },
     "metadata": {
      "needs_background": "light"
     },
     "output_type": "display_data"
    }
   ],
   "source": [
    "## YOUR CODE HERE ##\n",
    "# Plot the training and validation loss history\n",
    "plt.plot(train_loss_, label=\"Training Loss\")\n",
    "plt.plot(val_loss_, label=\"Validation Loss\")\n",
    "plt.legend()\n",
    "plt.show()"
   ]
  },
  {
   "cell_type": "markdown",
   "metadata": {},
   "source": [
    "## Testing your model\n",
    "Using the previously created `DataLoader` for the test set, compute the percentage of correct predictions using the highest probability prediction. \n",
    "\n",
    "If your accuracy is over 90%, great work, but see if you can push a bit further! \n",
    "If your accuracy is under 90%, you'll need to make improvements.\n",
    "Go back and check your model architecture, loss function, and optimizer to make sure they're appropriate for an image classification task."
   ]
  },
  {
   "cell_type": "code",
   "execution_count": 14,
   "metadata": {},
   "outputs": [
    {
     "name": "stdout",
     "output_type": "stream",
     "text": [
      "Accuracy of the model on the test images: 99.67%\n",
      "Great work! Try pushing further for even better accuracy.\n"
     ]
    }
   ],
   "source": [
    "## YOUR CODE HERE ##\n",
    "\n",
    "# Set the model to evaluation mode\n",
    "model.eval()\n",
    "\n",
    "# Initialize the variables to track correct predictions and total predictions\n",
    "correct = 0\n",
    "total = 0\n",
    "\n",
    "# Disable gradient computation since we're in testing mode\n",
    "with torch.no_grad():\n",
    "    for inputs, labels in test_loader:\n",
    "        # Move data to the appropriate device (same as model)\n",
    "        inputs = inputs.to(device)\n",
    "        labels = labels.to(device)\n",
    "\n",
    "        # Compute model output\n",
    "        outputs = model(inputs)\n",
    "\n",
    "        # Get the predicted class with the highest score\n",
    "        _, predicted = torch.max(outputs.data, 1)\n",
    "\n",
    "        # Total number of labels\n",
    "        total += labels.size(0)\n",
    "\n",
    "        # Total correct predictions\n",
    "        correct += (predicted == labels).sum().item()\n",
    "\n",
    "# Calculate the accuracy\n",
    "accuracy = 100 * correct / total\n",
    "print(f'Accuracy of the model on the test images: {accuracy:.2f}%')\n",
    "\n",
    "# Additional logic based on the performance\n",
    "if accuracy > 90:\n",
    "    print(\"Great work! Try pushing further for even better accuracy.\")\n",
    "else:\n",
    "    print(\"Accuracy is under 90%. Consider revisiting your model architecture, loss function, and optimizer.\")\n"
   ]
  },
  {
   "cell_type": "markdown",
   "metadata": {},
   "source": [
    "## Improving your model\n",
    "\n",
    "Once your model is done training, try tweaking your hyperparameters and training again below to improve your accuracy on the test set!"
   ]
  },
  {
   "cell_type": "code",
   "execution_count": 15,
   "metadata": {},
   "outputs": [],
   "source": [
    "## YOUR CODE HERE ##\n",
    "\n",
    "class NeuralNetwork(nn.Module):\n",
    "    def __init__(self):\n",
    "        super().__init__()\n",
    "        self.flatten = nn.Flatten()\n",
    "        self.linear_relu_stack = nn.Sequential(\n",
    "            nn.Linear(28*28, 512),\n",
    "            nn.ReLU(),\n",
    "            nn.Linear(512, 512),\n",
    "            nn.ReLU(),\n",
    "            nn.Linear(512, 10),\n",
    "        )\n",
    "        self.dropout=nn.Dropout(0.2)\n",
    "\n",
    "    def forward(self, x, return_probabilities=False):\n",
    "        x = self.flatten(x)\n",
    "        logits = self.linear_relu_stack(x)\n",
    "        if return_probabilities:\n",
    "            probabilities = F.softmax(logits, dim=1)  # Apply softmax along the second dimension\n",
    "            return probabilities\n",
    "        return logits"
   ]
  },
  {
   "cell_type": "code",
   "execution_count": 16,
   "metadata": {},
   "outputs": [],
   "source": [
    "# Initialize the model\n",
    "model2 = NeuralNetwork()\n",
    "device = torch.device(\"cuda\" if torch.cuda.is_available() else \"cpu\")\n",
    "model2.to(device)\n",
    "\n",
    "\n",
    "\n",
    "# Loss function\n",
    "loss_function = nn.CrossEntropyLoss()\n",
    "# Optimizer\n",
    "optimizer = optim.Adam(model.parameters(), lr=0.001)\n"
   ]
  },
  {
   "cell_type": "code",
   "execution_count": null,
   "metadata": {},
   "outputs": [
    {
     "name": "stdout",
     "output_type": "stream",
     "text": [
      "Epoch 1, Train Loss: 2.3027, Train Accuracy: 0.0953\n",
      "Epoch 1, Val Loss: 2.3027, Val Accuracy: 0.0953\n",
      "Epoch 2, Train Loss: 2.3027, Train Accuracy: 0.0953\n",
      "Epoch 2, Val Loss: 2.3027, Val Accuracy: 0.0953\n",
      "Epoch 3, Train Loss: 2.3027, Train Accuracy: 0.0953\n",
      "Epoch 3, Val Loss: 2.3027, Val Accuracy: 0.0953\n",
      "Epoch 4, Train Loss: 2.3027, Train Accuracy: 0.0953\n",
      "Epoch 4, Val Loss: 2.3027, Val Accuracy: 0.0953\n",
      "Epoch 5, Train Loss: 2.3027, Train Accuracy: 0.0953\n",
      "Epoch 5, Val Loss: 2.3027, Val Accuracy: 0.0953\n",
      "Epoch 6, Train Loss: 2.3027, Train Accuracy: 0.0953\n",
      "Epoch 6, Val Loss: 2.3027, Val Accuracy: 0.0953\n",
      "Epoch 7, Train Loss: 2.3027, Train Accuracy: 0.0953\n",
      "Epoch 7, Val Loss: 2.3027, Val Accuracy: 0.0953\n"
     ]
    }
   ],
   "source": [
    "\n",
    "num_epochs = 10\n",
    "\n",
    "# Establish lists for our history of loss and accuracy\n",
    "train_loss_ = []\n",
    "val_loss_ = []\n",
    "train_accuracy_ = []\n",
    "val_accuracy_ = []\n",
    "\n",
    "for epoch in range(num_epochs):\n",
    "    model2.train()  # Set the model to training mode\n",
    "    train_loss = 0.0\n",
    "    train_correct = 0\n",
    "    total_train = 0\n",
    "\n",
    "    for i, data in enumerate(train_loader):\n",
    "        inputs, labels = data[0].to(device), data[1].to(device)  # Move data to the device\n",
    "\n",
    "        optimizer.zero_grad()  # Zero the gradients\n",
    "        outputs = model2(inputs)  # Compute the model output\n",
    "        loss = loss_function(outputs, labels)  # Calculate loss\n",
    "        loss.backward()  # Backpropagate the error\n",
    "        optimizer.step()  # Update weights\n",
    "\n",
    "        _, preds = torch.max(outputs, 1)\n",
    "        train_correct += (preds == labels).sum().item()\n",
    "        train_loss += loss.item()\n",
    "        total_train += labels.size(0)\n",
    "\n",
    "    # Output training stats\n",
    "    train_accuracy = train_correct / total_train\n",
    "    train_loss_.append(train_loss / len(train_loader))\n",
    "\n",
    "    print(f'Epoch {epoch + 1}, Train Loss: {train_loss / len(train_loader):.4f}, Train Accuracy: {train_accuracy:.4f}')\n",
    "\n",
    "    # Validation loop\n",
    "    model2.eval()  # Set the model to evaluation mode\n",
    "    val_loss = 0.0\n",
    "    val_correct = 0\n",
    "    total_val = 0\n",
    "\n",
    "    with torch.no_grad():\n",
    "        for inputs, labels in test_loader:\n",
    "            inputs, labels = inputs.to(device), labels.to(device)  # Move data to the device\n",
    "            outputs = model2(inputs)\n",
    "            loss = loss_function(outputs, labels)\n",
    "\n",
    "            _, preds = torch.max(outputs, 1)\n",
    "            val_correct += (preds == labels).sum().item()\n",
    "            val_loss += loss.item()\n",
    "            total_val += labels.size(0)\n",
    "\n",
    "    # Output validation stats\n",
    "    val_accuracy = val_correct / total_val\n",
    "    val_loss_.append(val_loss / len(test_loader))\n",
    "\n",
    "    print(f'Epoch {epoch + 1}, Val Loss: {val_loss / len(test_loader):.4f}, Val Accuracy: {val_accuracy:.4f}')\n"
   ]
  },
  {
   "cell_type": "code",
   "execution_count": null,
   "metadata": {},
   "outputs": [],
   "source": [
    "# Set the model to evaluation mode\n",
    "model2.eval()\n",
    "\n",
    "# Initialize the variables to track correct predictions and total predictions\n",
    "correct = 0\n",
    "total = 0\n",
    "\n",
    "# Disable gradient computation since we're in testing mode\n",
    "with torch.no_grad():\n",
    "    for inputs, labels in test_loader:\n",
    "        # Move data to the appropriate device (same as model)\n",
    "        inputs = inputs.to(device)\n",
    "        labels = labels.to(device)\n",
    "\n",
    "        # Compute model output\n",
    "        outputs = model2(inputs)\n",
    "\n",
    "        # Get the predicted class with the highest score\n",
    "        _, predicted = torch.max(outputs.data, 1)\n",
    "\n",
    "        # Total number of labels\n",
    "        total += labels.size(0)\n",
    "\n",
    "        # Total correct predictions\n",
    "        correct += (predicted == labels).sum().item()\n",
    "\n",
    "# Calculate the accuracy\n",
    "accuracy = 100 * correct / total\n",
    "print(f'Accuracy of the model on the test images: {accuracy:.2f}%')\n",
    "\n",
    "# Additional logic based on the performance\n",
    "if accuracy > 90:\n",
    "    print(\"Great work! Try pushing further for even better accuracy.\")\n",
    "else:\n",
    "    print(\"Accuracy is under 90%. Consider revisiting your model architecture, loss function, and optimizer.\")\n"
   ]
  },
  {
   "cell_type": "markdown",
   "metadata": {},
   "source": [
    "## Saving your model\n",
    "Using `torch.save`, save your model for future loading."
   ]
  },
  {
   "cell_type": "code",
   "execution_count": null,
   "metadata": {},
   "outputs": [],
   "source": [
    "## YOUR CODE HERE ##\n",
    "\n",
    "# torch.save(model.state_dict(), 'model.pth')\n",
    "# torch.save(model2.state_dict(), 'model2.pth')\n"
   ]
  },
  {
   "cell_type": "markdown",
   "metadata": {},
   "source": [
    "## References\n",
    "\n",
    "https://pytorch.org/vision/stable/generated/torchvision.datasets.MNIST.html#torchvision.datasets.MNIST\n",
    "\n",
    "https://github.com/nakasho5/Deep-Learning-Nanodegree/blob/main/Project1_Developing%20a%20Handwritten%20Digits%20Classifier%20with%20PyTorch/MNIST_Handwritten_Digits-STARTER_MAC.ipynb\n",
    "\n",
    "https://github.com/supersjgk/Handwritten-Digit-Classification-PyTorch/blob/main/mnist.py"
   ]
  },
  {
   "cell_type": "code",
   "execution_count": null,
   "metadata": {},
   "outputs": [],
   "source": []
  },
  {
   "cell_type": "code",
   "execution_count": null,
   "metadata": {},
   "outputs": [],
   "source": []
  }
 ],
 "metadata": {
  "kernelspec": {
   "display_name": "Python 3",
   "language": "python",
   "name": "python3"
  },
  "language_info": {
   "codemirror_mode": {
    "name": "ipython",
    "version": 3
   },
   "file_extension": ".py",
   "mimetype": "text/x-python",
   "name": "python",
   "nbconvert_exporter": "python",
   "pygments_lexer": "ipython3",
   "version": "3.7.6"
  }
 },
 "nbformat": 4,
 "nbformat_minor": 4
}
